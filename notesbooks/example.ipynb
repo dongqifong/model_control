{
 "cells": [
  {
   "cell_type": "code",
   "execution_count": 1,
   "id": "f9e0571d",
   "metadata": {},
   "outputs": [],
   "source": [
    "import os\n",
    "os.chdir(\"..\")"
   ]
  },
  {
   "cell_type": "code",
   "execution_count": 2,
   "id": "f039bf76",
   "metadata": {},
   "outputs": [],
   "source": [
    "import json"
   ]
  },
  {
   "cell_type": "markdown",
   "id": "d9ed6a4e",
   "metadata": {},
   "source": [
    "## import 模組"
   ]
  },
  {
   "cell_type": "code",
   "execution_count": 3,
   "id": "57835d42",
   "metadata": {},
   "outputs": [],
   "source": [
    "import numpy as np\n",
    "from model_control.models.retrain_clf.controller import ModelController"
   ]
  },
  {
   "cell_type": "markdown",
   "id": "8e5f31d1",
   "metadata": {},
   "source": [
    "## 產生資料"
   ]
  },
  {
   "cell_type": "code",
   "execution_count": 4,
   "id": "4d44eea6",
   "metadata": {},
   "outputs": [],
   "source": [
    "n_sample = 30\n",
    "input_size = 51200\n",
    "\n",
    "train_x = np.random.random((n_sample, input_size))\n",
    "train_y = np.random.choice(2, n_sample)\n",
    "\n",
    "valid_x = np.random.random((n_sample, input_size))\n",
    "valid_y = np.random.choice(2, n_sample)"
   ]
  },
  {
   "cell_type": "markdown",
   "id": "1b549212",
   "metadata": {},
   "source": [
    "## 建立model控制物件 ＆ 讀取config.json"
   ]
  },
  {
   "cell_type": "code",
   "execution_count": 5,
   "id": "2a932bd3",
   "metadata": {},
   "outputs": [],
   "source": [
    "model_controller = ModelController(train_x, train_y, valid_x, valid_y)\n",
    "\n",
    "model_controller.read_config(\"config.json\")"
   ]
  },
  {
   "cell_type": "code",
   "execution_count": 6,
   "id": "ad86d8ab",
   "metadata": {},
   "outputs": [
    {
     "data": {
      "text/plain": [
       "{'input_size': 51200,\n",
       " 'in_channels': 1,\n",
       " 'out_channels': 64,\n",
       " 'kernel_size': 64,\n",
       " 'stride': 64,\n",
       " 'padding': 0,\n",
       " 'dropout_p': 0.3}"
      ]
     },
     "execution_count": 6,
     "metadata": {},
     "output_type": "execute_result"
    }
   ],
   "source": [
    "model_controller.model_config"
   ]
  },
  {
   "cell_type": "code",
   "execution_count": 7,
   "id": "5ae14937",
   "metadata": {},
   "outputs": [
    {
     "data": {
      "text/plain": [
       "{'lr': 0.0001, 'batch_size': 10, 'shuffle': True, 'model_name': 'retrain_mech'}"
      ]
     },
     "execution_count": 7,
     "metadata": {},
     "output_type": "execute_result"
    }
   ],
   "source": [
    "model_controller.compile_config"
   ]
  },
  {
   "cell_type": "markdown",
   "id": "02d5869a",
   "metadata": {},
   "source": [
    "## 按照config-->建立模型 & 訓練參數"
   ]
  },
  {
   "cell_type": "code",
   "execution_count": 8,
   "id": "e4bfd434",
   "metadata": {},
   "outputs": [],
   "source": [
    "model_controller.build()\n",
    "# model_controller.load_weight(\n",
    "#     \"retrain_mech_state_dict.pth\")\n",
    "model_controller.compile()"
   ]
  },
  {
   "cell_type": "markdown",
   "id": "a633293c",
   "metadata": {},
   "source": [
    "## 執行訓練"
   ]
  },
  {
   "cell_type": "code",
   "execution_count": 9,
   "id": "5eb4666c",
   "metadata": {},
   "outputs": [
    {
     "name": "stdout",
     "output_type": "stream",
     "text": [
      "Progress: [5/5], training loss:[0.58302], valid loss:[0.67358]\n",
      "Training finished !\n"
     ]
    }
   ],
   "source": [
    "model_controller.train(5)"
   ]
  },
  {
   "cell_type": "markdown",
   "id": "7606b9fb",
   "metadata": {},
   "source": [
    "## 執行預測"
   ]
  },
  {
   "cell_type": "code",
   "execution_count": 10,
   "id": "293d410f",
   "metadata": {},
   "outputs": [],
   "source": [
    "y_pred = model_controller.predict(train_x, batch_size=5)\n",
    "# model_controller.save()"
   ]
  },
  {
   "cell_type": "markdown",
   "id": "f28e5937",
   "metadata": {},
   "source": [
    "## 計算評估指標"
   ]
  },
  {
   "cell_type": "code",
   "execution_count": 11,
   "id": "185650f3",
   "metadata": {},
   "outputs": [
    {
     "name": "stdout",
     "output_type": "stream",
     "text": [
      "mcc: 0.5345224838248488\n"
     ]
    }
   ],
   "source": [
    "score = model_controller.evaluate(train_y, y_pred)\n",
    "print(\"mcc:\",score)"
   ]
  },
  {
   "cell_type": "markdown",
   "id": "ea29ef9d",
   "metadata": {},
   "source": [
    "## 展示模型資訊"
   ]
  },
  {
   "cell_type": "code",
   "execution_count": 12,
   "id": "078279ac",
   "metadata": {},
   "outputs": [
    {
     "name": "stdout",
     "output_type": "stream",
     "text": [
      "ModelMonitor(\n",
      "  (conv1): Conv1d(1, 64, kernel_size=(64,), stride=(64,))\n",
      "  (fc1): Linear(in_features=51200, out_features=64, bias=True)\n",
      "  (fc2): Linear(in_features=64, out_features=2, bias=True)\n",
      "  (relu): ReLU()\n",
      "  (sigmoid): Sigmoid()\n",
      "  (dropout): Dropout(p=0.3, inplace=False)\n",
      ")\n"
     ]
    }
   ],
   "source": [
    "print(model_controller.model)"
   ]
  },
  {
   "cell_type": "markdown",
   "id": "c9d934c0",
   "metadata": {},
   "source": [
    "## 儲存模型"
   ]
  },
  {
   "cell_type": "code",
   "execution_count": 13,
   "id": "426ec332",
   "metadata": {},
   "outputs": [
    {
     "name": "stdout",
     "output_type": "stream",
     "text": [
      "Saved model name:retrain_mech_state_dict.pth\n"
     ]
    }
   ],
   "source": [
    "model_controller.save()"
   ]
  },
  {
   "cell_type": "code",
   "execution_count": null,
   "id": "26b3dea5",
   "metadata": {},
   "outputs": [],
   "source": []
  }
 ],
 "metadata": {
  "kernelspec": {
   "display_name": "Python 3",
   "language": "python",
   "name": "python3"
  },
  "language_info": {
   "codemirror_mode": {
    "name": "ipython",
    "version": 3
   },
   "file_extension": ".py",
   "mimetype": "text/x-python",
   "name": "python",
   "nbconvert_exporter": "python",
   "pygments_lexer": "ipython3",
   "version": "3.8.10"
  }
 },
 "nbformat": 4,
 "nbformat_minor": 5
}
